{
  "nbformat": 4,
  "nbformat_minor": 0,
  "metadata": {
    "colab": {
      "provenance": [],
      "authorship_tag": "ABX9TyMx5Rhl2HMoSpkI1SPLAsLi",
      "include_colab_link": true
    },
    "kernelspec": {
      "name": "python3",
      "display_name": "Python 3"
    },
    "language_info": {
      "name": "python"
    }
  },
  "cells": [
    {
      "cell_type": "markdown",
      "metadata": {
        "id": "view-in-github",
        "colab_type": "text"
      },
      "source": [
        "<a href=\"https://colab.research.google.com/github/AlexsonT/Machine-Learning-II/blob/main/Recursao.ipynb\" target=\"_parent\"><img src=\"https://colab.research.google.com/assets/colab-badge.svg\" alt=\"Open In Colab\"/></a>"
      ]
    },
    {
      "cell_type": "markdown",
      "source": [
        "Crie uma lista com 50 números (de 0 a 1000) posicionados ordenadamente\n",
        "do menor para o maior. Crie um algoritmo recursivo que procure por um valor\n",
        "nessa lista. O valor deve ser informado pelo usuário."
      ],
      "metadata": {
        "id": "TlDYRW7dmEMp"
      }
    },
    {
      "cell_type": "markdown",
      "source": [
        "Bibliotecas"
      ],
      "metadata": {
        "id": "rkAWMVfyzXG7"
      }
    },
    {
      "cell_type": "code",
      "source": [
        "from random import sample"
      ],
      "metadata": {
        "id": "85uu-xxIzWQ0"
      },
      "execution_count": 201,
      "outputs": []
    },
    {
      "cell_type": "markdown",
      "source": [
        "Funções"
      ],
      "metadata": {
        "id": "2o_Dilnozbl_"
      }
    },
    {
      "cell_type": "code",
      "source": [
        "#Cria uma lista com 50 números ordenados em um total de 1000 possibilidades.\n",
        "def sorteio_sem_repeticoes():\n",
        "    return sorted(sample(range(1, 1001), 50))"
      ],
      "metadata": {
        "id": "9RqHdfEdzdKW"
      },
      "execution_count": 202,
      "outputs": []
    },
    {
      "cell_type": "code",
      "source": [
        "lista = sorteio_sem_repeticoes() # chama a função e armazena a lista de números.\n",
        "\n",
        "#Solicita número ao usuário e itera até que seja utilizado um número presente na lista.\n",
        "def procurar(num):\n",
        "    num = int(input('Digite um número para verificar na lista:'))\n",
        "    if num not in lista:\n",
        "        procurar(num)\n",
        "        return\n",
        "    print('O número indicado foi encontrado na lista!!!')\n",
        "    print(f'Os números do sorteio foram: {lista}')\n",
        "    indice = lista.index(num)\n",
        "    print(f'A posição do item na lista é: {indice + 1}')\n",
        "    return\n",
        "     "
      ],
      "metadata": {
        "id": "hKlr6_ZJKXkX"
      },
      "execution_count": 203,
      "outputs": []
    },
    {
      "cell_type": "markdown",
      "source": [
        "Execução"
      ],
      "metadata": {
        "id": "AVJIaK0WMEvj"
      }
    },
    {
      "cell_type": "code",
      "source": [
        "procurar(num)"
      ],
      "metadata": {
        "colab": {
          "base_uri": "https://localhost:8080/"
        },
        "id": "F-d4WNmVjy4a",
        "outputId": "7e4d46a5-33f0-423d-dc5d-0dc88725477d"
      },
      "execution_count": 209,
      "outputs": [
        {
          "output_type": "stream",
          "name": "stdout",
          "text": [
            "Digite um numero para verificar na lista:4\n",
            "Digite um numero para verificar na lista:5\n",
            "Digite um numero para verificar na lista:2\n",
            "O número indicado foi encontrado na lista!!!\n",
            "Os números do sorteio foram: [2, 6, 7, 8, 11, 12, 13, 14, 15, 20, 22, 24, 26, 27, 31, 32, 33, 34, 35, 36, 37, 41, 42, 43, 44, 45, 47, 49, 51, 52, 53, 54, 55, 58, 59, 62, 63, 68, 69, 71, 72, 73, 74, 75, 77, 78, 79, 81, 83, 84]\n",
            "A posição do item na lista é: 1\n"
          ]
        }
      ]
    },
    {
      "cell_type": "code",
      "source": [],
      "metadata": {
        "id": "-97MZ9XgE-Y5"
      },
      "execution_count": null,
      "outputs": []
    }
  ]
}